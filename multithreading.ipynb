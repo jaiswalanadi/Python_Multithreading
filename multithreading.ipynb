{
 "cells": [
  {
   "cell_type": "code",
   "execution_count": null,
   "id": "da5ec91d-9a72-4623-95f7-b1ee680f68cd",
   "metadata": {},
   "outputs": [],
   "source": [
    "#1\n",
    "'''\n",
    "Multithreading allows the programmer to divide application tasks into sub-tasks and simultaneously run them in a program. \n",
    "It allows threads to communicate and share resources such as files, data, and memory to the same processor.\n",
    "'''\n",
    "\n",
    "'''\n",
    "Multiple threads within a process share the same data space with the main thread and \n",
    "can therefore share information or communicate with each other more easily than if they were separate processes.\n",
    "'''\n",
    "# The Threading Module"
   ]
  },
  {
   "cell_type": "code",
   "execution_count": null,
   "id": "d4db63d6-2cec-4882-9445-64586ac75cfe",
   "metadata": {},
   "outputs": [],
   "source": [
    "#2\n",
    "'''\n",
    "Python threading allows you to have different parts of your program run concurrently and can simplify your design.\n",
    "'''\n",
    "# threading.activeCount() − Returns the number of thread objects that are active.\n",
    "# threading.currentThread() − Returns the number of thread objects in the caller's thread control.\n",
    "# threading.enumerate() − Returns a list of all thread objects that are currently active."
   ]
  },
  {
   "cell_type": "code",
   "execution_count": null,
   "id": "b43cf17e-608e-4d1e-a886-f73e1988b73b",
   "metadata": {},
   "outputs": [],
   "source": [
    "#3\n",
    "'''\n",
    "The . run() method executes any target function belonging to a given thread object that is now active. \n",
    "It normally executes in the background after the . start() method is invoked.\n",
    "'''\n",
    "\n",
    "'''\n",
    "Starts a python thread. A thread is started after some fractional delta time, as the thread needs to be initialised. \n",
    "before it is executed in the operating system context.\n",
    "'''\n",
    "\n",
    "'''\n",
    "A thread can be joined in Python by calling the Thread. join() method. \n",
    "This has the effect of blocking the current thread until the target thread that has been joined has terminated.\n",
    "'''\n",
    "\n",
    "'''\n",
    "is_alive() method returns True if the thread is still running and False , otherwise.\n",
    "'''"
   ]
  },
  {
   "cell_type": "code",
   "execution_count": 1,
   "id": "4a4db98c-a564-4aa2-9825-ef2084961d88",
   "metadata": {},
   "outputs": [],
   "source": [
    "import logging\n",
    "import threading\n",
    "\n",
    "logging.basicConfig(filename='multi.log', level= logging.INFO)"
   ]
  },
  {
   "cell_type": "code",
   "execution_count": 13,
   "id": "6d40c61d-b3ea-4810-9751-0f068d6c7237",
   "metadata": {},
   "outputs": [],
   "source": [
    "#4.1 \n",
    "def square(n):\n",
    "    logging.info(n**2)\n",
    "\n",
    "thread1 = [threading.Thread(target=square, args =(i,)) for i in range(10)]\n",
    "\n",
    "for t in thread1:\n",
    "    t.start()"
   ]
  },
  {
   "cell_type": "code",
   "execution_count": 15,
   "id": "219144cd-5c2c-431b-9836-58b0510b1495",
   "metadata": {},
   "outputs": [],
   "source": [
    "#4.2\n",
    "def cube(n):\n",
    "    logging.info(n**3)\n",
    "\n",
    "thread2 = [threading.Thread(target=cube, args =(i,)) for i in range(10)]\n",
    "\n",
    "for t in thread2:\n",
    "    t.start()"
   ]
  },
  {
   "cell_type": "code",
   "execution_count": null,
   "id": "e3a0d989-3b74-4802-b96b-ad1232601a95",
   "metadata": {},
   "outputs": [],
   "source": [
    "#5\n",
    "'''\n",
    "This model provides more concurrency than the many-to-one model. \n",
    "It also allows another thread to run when a thread makes a blocking system call. \n",
    "It supports multiple threads to execute in parallel on microprocessors. \n",
    "Disadvantage of this model is that creating user thread requires the corresponding Kernel thread.\n",
    "'''"
   ]
  },
  {
   "cell_type": "code",
   "execution_count": null,
   "id": "8699b851-5207-43f2-8046-beb55f4eb344",
   "metadata": {},
   "outputs": [],
   "source": [
    "#6\n",
    "'''\n",
    "In this case, both threads will wait indefinitely for the resource held by the other thread. \n",
    "These threads are said to be deadlocked. \n",
    "Race conditions occur when two threads interact in a negatve (buggy) way depending on the exact order that their different instructions are executed.\n",
    "'''"
   ]
  },
  {
   "cell_type": "code",
   "execution_count": null,
   "id": "0ff9fab5-591a-4073-a353-773f2b894676",
   "metadata": {},
   "outputs": [],
   "source": []
  }
 ],
 "metadata": {
  "kernelspec": {
   "display_name": "Python 3 (ipykernel)",
   "language": "python",
   "name": "python3"
  },
  "language_info": {
   "codemirror_mode": {
    "name": "ipython",
    "version": 3
   },
   "file_extension": ".py",
   "mimetype": "text/x-python",
   "name": "python",
   "nbconvert_exporter": "python",
   "pygments_lexer": "ipython3",
   "version": "3.10.8"
  }
 },
 "nbformat": 4,
 "nbformat_minor": 5
}
